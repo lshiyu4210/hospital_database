{
 "cells": [
  {
   "cell_type": "markdown",
   "metadata": {},
   "source": [
    "Earlier in class you were provided a design for the database (which can also be found in files/SQLProject/tables.docx)  and a set of data files (in files/data/SQLProject). You were asked to create a MySQL database using this design and data via a Python program (similar to creating the SQL HW DB)."
   ]
  },
  {
   "cell_type": "code",
   "execution_count": 53,
   "metadata": {},
   "outputs": [
    {
     "name": "stdout",
     "output_type": "stream",
     "text": [
      "<mysql.connector.connection_cext.CMySQLConnection object at 0x7f2c5ba1b710>\n",
      "CONNECTION SUCCESSFUL\n"
     ]
    }
   ],
   "source": [
    "# Connect to the database\n",
    "import mysql.connector\n",
    " \n",
    "mydb = mysql.connector.connect(\n",
    "  host=\"localhost\",\n",
    "  user=\"root\",\n",
    "  password=\"421020\"   \n",
    ")\n",
    " \n",
    "print(mydb)\n",
    " \n",
    "if mydb.is_connected():\n",
    "    print(\"CONNECTION SUCCESSFUL\")"
   ]
  },
  {
   "cell_type": "code",
   "execution_count": 116,
   "metadata": {},
   "outputs": [
    {
     "name": "stdout",
     "output_type": "stream",
     "text": [
      "CONNECTION CLOSED\n"
     ]
    }
   ],
   "source": [
    "# Disconnect\n",
    "mydb.close()\n",
    "if not mydb.is_connected():\n",
    "        print(\"CONNECTION CLOSED\")"
   ]
  },
  {
   "cell_type": "code",
   "execution_count": 54,
   "metadata": {},
   "outputs": [],
   "source": [
    "mycursor = mydb.cursor()"
   ]
  },
  {
   "cell_type": "code",
   "execution_count": null,
   "metadata": {},
   "outputs": [],
   "source": [
    "# Create Database\n",
    "mycursor.execute(\"CREATE DATABASE hospital_project\")"
   ]
  },
  {
   "cell_type": "code",
   "execution_count": 7,
   "metadata": {},
   "outputs": [
    {
     "name": "stdout",
     "output_type": "stream",
     "text": [
      "[('data1050F24',), ('hospital_project',), ('information_schema',), ('mysql',), ('performance_schema',), ('sys',)]\n"
     ]
    }
   ],
   "source": [
    "mycursor.execute(\"SHOW DATABASEs\")\n",
    "print(mycursor.fetchall())"
   ]
  },
  {
   "cell_type": "code",
   "execution_count": 55,
   "metadata": {},
   "outputs": [],
   "source": [
    "mycursor.execute(\"USE hospital_project\")"
   ]
  },
  {
   "cell_type": "code",
   "execution_count": null,
   "metadata": {},
   "outputs": [],
   "source": [
    "# create physicians table\n",
    "mycursor.execute(\n",
    "    \"\"\"\n",
    "    CREATE TABLE physicians (\n",
    "        ssn VARCHAR(11) PRIMARY KEY,\n",
    "        name VARCHAR(255),\n",
    "        primary_specialty VARCHAR(255),\n",
    "        experience_years INT\n",
    "    )\n",
    "    \"\"\"\n",
    ")"
   ]
  },
  {
   "cell_type": "code",
   "execution_count": 18,
   "metadata": {},
   "outputs": [],
   "source": [
    "# create pharmacies table\n",
    "mycursor.execute(\n",
    "    \"\"\"\n",
    "    CREATE TABLE pharmacies (\n",
    "        id INT PRIMARY KEY,\n",
    "        name VARCHAR(255),\n",
    "        address VARCHAR(255),\n",
    "        phone VARCHAR(20)\n",
    "    )\n",
    "    \"\"\"\n",
    ")"
   ]
  },
  {
   "cell_type": "code",
   "execution_count": null,
   "metadata": {},
   "outputs": [],
   "source": [
    "# create drug table\n",
    "mycursor.execute(\n",
    "    \"\"\"\n",
    "    CREATE TABLE drugs (\n",
    "        drug_id INT,\n",
    "        name VARCHAR(255) PRIMARY KEY\n",
    "    )\n",
    "    \"\"\"\n",
    ")"
   ]
  },
  {
   "cell_type": "code",
   "execution_count": 20,
   "metadata": {},
   "outputs": [],
   "source": [
    "# create patient table\n",
    "mycursor.execute(\n",
    "    \"\"\"\n",
    "    CREATE TABLE patients (\n",
    "        ssn VARCHAR(11) PRIMARY KEY,\n",
    "        name VARCHAR(255),\n",
    "        address VARCHAR(255),\n",
    "        birth_date DATE,\n",
    "        physician_id VARCHAR(11),\n",
    "        FOREIGN KEY (physician_id) REFERENCES physicians(ssn)\n",
    "    )\n",
    "    \"\"\"\n",
    ")"
   ]
  },
  {
   "cell_type": "code",
   "execution_count": null,
   "metadata": {},
   "outputs": [],
   "source": [
    "# create prescriptions table\n",
    "mycursor.execute(\n",
    "    \"\"\"\n",
    "    CREATE TABLE prescriptions (\n",
    "        id INT PRIMARY KEY,\n",
    "        patient_id VARCHAR(11),\n",
    "        physician_id VARCHAR(11),\n",
    "        drug_name VARCHAR(255),\n",
    "        date DATE,\n",
    "        quantity INT,\n",
    "        FOREIGN KEY (patient_id) REFERENCES patients(ssn),\n",
    "        FOREIGN KEY (physician_id) REFERENCES physicians(ssn),\n",
    "        FOREIGN KEY (drug_name) REFERENCES drugs(name)\n",
    "    )\n",
    "    \"\"\"\n",
    ")"
   ]
  },
  {
   "cell_type": "code",
   "execution_count": 75,
   "metadata": {},
   "outputs": [],
   "source": [
    "mycursor.execute(\n",
    "    \"\"\"\n",
    "    ALTER TABLE prescriptions\n",
    "    ADD INDEX patient_drug_idx (patient_id, drug_name)\n",
    "    \"\"\"\n",
    ")"
   ]
  },
  {
   "cell_type": "code",
   "execution_count": null,
   "metadata": {},
   "outputs": [],
   "source": [
    "# create adverse interactions table\n",
    "mycursor.execute(\n",
    "    \"\"\"\n",
    "    CREATE TABLE adverse_interactions (\n",
    "        drug_name_1 VARCHAR(255),\n",
    "        drug_name_2 VARCHAR(255),\n",
    "        PRIMARY KEY (drug_name_1, drug_name_2),\n",
    "        FOREIGN KEY (drug_name_1) REFERENCES drugs(name),\n",
    "        FOREIGN KEY (drug_name_2) REFERENCES drugs(name)\n",
    "    )\n",
    "    \"\"\"\n",
    ")"
   ]
  },
  {
   "cell_type": "code",
   "execution_count": 82,
   "metadata": {},
   "outputs": [],
   "source": [
    "# create alerts table\n",
    "mycursor.execute(\n",
    "    \"\"\"\n",
    "    CREATE TABLE alerts (\n",
    "        patient_id VARCHAR(11),\n",
    "        physician_id VARCHAR(11),\n",
    "        alert_date DATE,\n",
    "        drug1 VARCHAR(255),\n",
    "        drug2 VARCHAR(255),\n",
    "        PRIMARY KEY (patient_id, physician_id, alert_date, drug1, drug2),\n",
    "        FOREIGN KEY (patient_id) REFERENCES patients(ssn),\n",
    "        FOREIGN KEY (physician_id) REFERENCES physicians(ssn),\n",
    "        FOREIGN KEY (patient_id, drug1) REFERENCES prescriptions(patient_id, drug_name),\n",
    "        FOREIGN KEY (patient_id, drug2) REFERENCES prescriptions(patient_id, drug_name)\n",
    "    )\n",
    "    \"\"\"\n",
    ")"
   ]
  },
  {
   "cell_type": "code",
   "execution_count": 28,
   "metadata": {},
   "outputs": [],
   "source": [
    "# create pharmacy_fills table\n",
    "mycursor.execute(\n",
    "    \"\"\"\n",
    "    CREATE TABLE pharmacy_fills (\n",
    "        prescription_id INT,\n",
    "        pharmacy_id INT,\n",
    "        date DATE,\n",
    "        cost DECIMAL(10, 2),\n",
    "        PRIMARY KEY (prescription_id, pharmacy_id),\n",
    "        FOREIGN KEY (prescription_id) REFERENCES prescriptions(id),\n",
    "        FOREIGN KEY (pharmacy_id) REFERENCES pharmacies(id)\n",
    "    )\n",
    "    \"\"\"\n",
    ")"
   ]
  },
  {
   "cell_type": "code",
   "execution_count": 30,
   "metadata": {},
   "outputs": [],
   "source": [
    "# create company table\n",
    "mycursor.execute(\n",
    "    \"\"\"\n",
    "    CREATE TABLE companies (\n",
    "        id INT PRIMARY KEY,\n",
    "        name VARCHAR(255),\n",
    "        address VARCHAR(255),\n",
    "        contact_phone VARCHAR(20),\n",
    "        contact_name VARCHAR(255)\n",
    "    )\n",
    "    \"\"\"\n",
    ")"
   ]
  },
  {
   "cell_type": "code",
   "execution_count": null,
   "metadata": {},
   "outputs": [],
   "source": [
    "# create contracts table\n",
    "mycursor.execute(\n",
    "    \"\"\"\n",
    "    CREATE TABLE contracts (\n",
    "        id INT PRIMARY KEY,\n",
    "        company_id INT,\n",
    "        pharmacy_id INT,\n",
    "        drug_name VARCHAR(255),\n",
    "        dosage VARCHAR(255),\n",
    "        quantity INT,\n",
    "        date DATE,\n",
    "        price DECIMAL(10, 2),\n",
    "        FOREIGN KEY (company_id) REFERENCES companies(id),\n",
    "        FOREIGN KEY (pharmacy_id) REFERENCES pharmacies(id),\n",
    "        FOREIGN KEY (drug_name) REFERENCES drugs(name)\n",
    "    )\n",
    "    \"\"\"\n",
    ")"
   ]
  },
  {
   "cell_type": "code",
   "execution_count": 23,
   "metadata": {},
   "outputs": [
    {
     "name": "stdout",
     "output_type": "stream",
     "text": [
      "('adverse_interactions',)\n",
      "('alerts',)\n",
      "('companies',)\n",
      "('contracts',)\n",
      "('drugs',)\n",
      "('patients',)\n",
      "('pharmacies',)\n",
      "('pharmacy_fills',)\n",
      "('physicians',)\n",
      "('prescriptions',)\n"
     ]
    }
   ],
   "source": [
    "mycursor.execute(\"SHOW TABLES\")\n",
    "columns = mycursor.fetchall()\n",
    "for column in columns:\n",
    "    print(column)"
   ]
  },
  {
   "cell_type": "markdown",
   "metadata": {},
   "source": [
    "Here are some additional requirements we'd like to add to this database:\n",
    "\n",
    "The hospital administration needs to retrieve from time to time primary specialty and years of experience of a given physician. Write a stored procedure that can be used to do that."
   ]
  },
  {
   "cell_type": "code",
   "execution_count": 5,
   "metadata": {},
   "outputs": [],
   "source": [
    "# create get_specialty_year procedure\n",
    "mycursor.execute(\n",
    "    \"\"\"\n",
    "    CREATE PROCEDURE get_specialty_year (\n",
    "        IN physician_ssn VARCHAR(11),\n",
    "        OUT p_specialty VARCHAR(255),\n",
    "        OUT exp_years INT\n",
    "    )\n",
    "    BEGIN\n",
    "        SELECT primary_specialty, experience_years\n",
    "        INTO p_specialty, exp_years\n",
    "        FROM physicians\n",
    "        WHERE ssn = physician_ssn;\n",
    "    END;\n",
    "    \"\"\"\n",
    ")\n"
   ]
  },
  {
   "cell_type": "code",
   "execution_count": 5,
   "metadata": {},
   "outputs": [
    {
     "name": "stdout",
     "output_type": "stream",
     "text": [
      "('get_specialty_year',)\n"
     ]
    }
   ],
   "source": [
    "mycursor.execute(\n",
    "    \"\"\"\n",
    "    SELECT ROUTINE_NAME\n",
    "    FROM information_schema.ROUTINES\n",
    "    WHERE ROUTINE_SCHEMA = 'hospital_project'\n",
    "    AND ROUTINE_NAME = 'get_specialty_year'\n",
    "    AND ROUTINE_TYPE = 'PROCEDURE'\n",
    "\"\"\"\n",
    ")\n",
    "result = mycursor.fetchone()\n",
    "print(result)"
   ]
  },
  {
   "cell_type": "markdown",
   "metadata": {},
   "source": [
    "Write a trigger that inserts a tuple in the alerts table when a patient is prescribed a drug (i.e., after inserting a new row in the prescriptions table)  that adversely interacts with a drug the patient was earlier prescribed. So the event for the trigger is a patient being ascribed a drug (i.e., the insertion of a new row in the prescriptions table); the condition to be checked is whether the patient was earlier prescribed a drug that adversely interacts with the newly prescribed drug; the action is to insert a new tuple in the alerts table, where drug1 is the earlier prescribed drug and drug2 is the newly prescribed drug."
   ]
  },
  {
   "cell_type": "code",
   "execution_count": 106,
   "metadata": {},
   "outputs": [],
   "source": [
    "# create adverse_interaction_alert trigger\n",
    "mycursor.execute(\n",
    "    \"\"\"\n",
    "    CREATE TRIGGER adverse_interaction_alert\n",
    "    AFTER INSERT ON prescriptions\n",
    "    FOR EACH ROW\n",
    "    BEGIN\n",
    "        INSERT INTO alerts (patient_id, physician_id, alert_date, drug1, drug2)\n",
    "        SELECT DISTINCT NEW.patient_id, NEW.physician_id, NEW.date, p.drug_name, NEW.drug_name\n",
    "        FROM prescriptions p\n",
    "        JOIN adverse_interactions ai\n",
    "        ON ( (ai.drug_name_1 = p.drug_name AND ai.drug_name_2 = NEW.drug_name)\n",
    "            OR (ai.drug_name_1 = NEW.drug_name AND ai.drug_name_2 = p.drug_name) )\n",
    "        WHERE p.patient_id = NEW.patient_id\n",
    "            AND p.drug_name <> NEW.drug_name;\n",
    "    END;\n",
    "    \"\"\"\n",
    ")"
   ]
  },
  {
   "cell_type": "code",
   "execution_count": 107,
   "metadata": {},
   "outputs": [
    {
     "name": "stdout",
     "output_type": "stream",
     "text": [
      "adverse_interaction_alert\n",
      "INSERT\n",
      "prescriptions\n",
      "AFTER\n",
      "BEGIN\n",
      "        INSERT INTO alerts (patient_id, physician_id, alert_date, drug1, drug2)\n",
      "        SELECT DISTINCT NEW.patient_id, NEW.physician_id, NEW.date, p.drug_name, NEW.drug_name\n",
      "        FROM prescriptions p\n",
      "        JOIN adverse_interactions ai\n",
      "        ON ( (ai.drug_name_1 = p.drug_name AND ai.drug_name_2 = NEW.drug_name)\n",
      "            OR (ai.drug_name_1 = NEW.drug_name AND ai.drug_name_2 = p.drug_name) )\n",
      "        WHERE p.patient_id = NEW.patient_id\n",
      "            AND p.drug_name <> NEW.drug_name;\n",
      "    END\n"
     ]
    }
   ],
   "source": [
    "mycursor.execute(\n",
    "    \"\"\"\n",
    "    SELECT TRIGGER_NAME, EVENT_MANIPULATION, EVENT_OBJECT_TABLE, ACTION_TIMING, ACTION_STATEMENT\n",
    "    FROM information_schema.TRIGGERS\n",
    "    WHERE TRIGGER_SCHEMA = 'hospital_project'\n",
    "    \"\"\"\n",
    ")\n",
    "result = mycursor.fetchone()\n",
    "for r in result:\n",
    "    print(r)"
   ]
  },
  {
   "cell_type": "code",
   "execution_count": 14,
   "metadata": {},
   "outputs": [],
   "source": [
    "import pandas as pd"
   ]
  },
  {
   "cell_type": "code",
   "execution_count": 15,
   "metadata": {},
   "outputs": [
    {
     "name": "stdout",
     "output_type": "stream",
     "text": [
      "('614-57-6885', 'Srinivasan', 'Cardiology', 4)\n",
      "('702-16-8749', 'Wu', 'Dermatology', 10)\n",
      "('571-13-9020', 'Mozart', 'Cardiology', 0)\n",
      "('718-27-0905', 'Einstein', 'Psychiatry', 29)\n",
      "('230-12-3219', 'El Said', 'Psychiatry', 12)\n",
      "('163-50-5535', 'Gold', 'Neurology', 8)\n",
      "('118-66-5958', 'Katz', 'Orthopedics', 3)\n",
      "('156-28-1945', 'Singh', 'Orthopedics', 25)\n",
      "('522-86-5827', 'Crick', 'Neurology', 0)\n",
      "('510-55-9776', 'Brandt', 'Psychiatry', 25)\n",
      "('460-35-6754', 'Kim', 'Orthopedics', 2)\n",
      "('357-93-5814', 'Califieri', 'Cardiology', 21)\n"
     ]
    }
   ],
   "source": [
    "# load physician\n",
    "data = pd.read_csv(\"physicians.csv\")\n",
    "for i,row in data.iterrows():\n",
    "    sql = \"INSERT INTO physicians VALUES (%s,%s,%s,%s)\"\n",
    "    mycursor.execute(sql, tuple(row))\n",
    "    print(tuple(row))\n",
    "    mydb.commit()"
   ]
  },
  {
   "cell_type": "code",
   "execution_count": 16,
   "metadata": {},
   "outputs": [
    {
     "name": "stdout",
     "output_type": "stream",
     "text": [
      "(1, ' Springfield Pharmacy', ' 123 Main St,  Springfield,  IL 62701', ' (217) 555-1234')\n",
      "(2, ' Peachtree Meds', ' 456 Elm St,  Atlanta, GA 30303', ' (404) 555-5678')\n",
      "(3, ' Lone Star Drugs', ' 789 Oak St,  Dallas, TX 75201', ' (214) 555-9101')\n",
      "(4, ' Mile High Meds', ' 101 Pine St, Denver, CO80202', ' (303) 555-1121')\n",
      "(5, ' Emerald City Pharmacy', ' 121 Spruce St,  Seattle,  WA 98101', ' (206) 555-1314')\n",
      "(6, ' Golden Gate Drugs', ' 234 Market St, San Francisco, CA 94105', ' (415) 555-1515')\n",
      "(7, ' Sunshine Pharmacy', ' 345 Palm Ave, Miami, FL 33101', ' (305) 555-1616')\n",
      "(8, ' Liberty Meds', ' 567 Broadway St, New York, NY 10001', ' (212) 555-1717')\n",
      "(9, ' Lakeside Drugs', ' 678 Lake Rd,  Minneapolis, MN 55401', ' (612) 555-1818')\n",
      "(10, ' Desert Bloom Pharmacy', ' 890 Desert Blvd, Phoenix, AZ 85001', ' (602) 555-1919')\n",
      "(11, ' Bayside Pharmacy', ' 112 Harbor Dr, San Diego, CA 92101', ' (619) 555-2020')\n",
      "(12, ' Capital Meds', ' 345 Capitol St, Washington, DC 20001', ' (202) 555-2121')\n",
      "(13, ' Windy City Pharmacy', ' 567 Windy Ave, Chicago, IL 60601', ' (312) 555-2222')\n",
      "(14, ' Beantown Drugs', ' 890 Beacon St, Boston,  MA 02101', ' (617) 555-2323')\n",
      "(15, ' Gateway Meds', ' 123 Arch St, St. Louis, MO 63101', ' (314) 555-2424')\n"
     ]
    }
   ],
   "source": [
    "# load pharmacies\n",
    "data = pd.read_csv(\"pharmacies.csv\")\n",
    "for i,row in data.iterrows():\n",
    "    sql = \"INSERT INTO pharmacies VALUES (%s,%s,%s,%s)\"\n",
    "    mycursor.execute(sql, tuple(row))\n",
    "    print(tuple(row))\n",
    "    mydb.commit()"
   ]
  },
  {
   "cell_type": "code",
   "execution_count": 18,
   "metadata": {},
   "outputs": [
    {
     "name": "stdout",
     "output_type": "stream",
     "text": [
      "(1, 'Primalovir')\n",
      "(2, 'Olanzanafine')\n",
      "(3, 'Avafoxin')\n",
      "(4, 'Quixiposide')\n",
      "(5, 'Cleotrana')\n",
      "(6, 'Kanulin')\n",
      "(7, 'Glucozepam Amcipentin')\n",
      "(8, 'Divisporine Acetaclotide')\n",
      "(9, 'Abnazole Toleluble')\n",
      "(10, 'Dantopex Quixilinum')\n"
     ]
    }
   ],
   "source": [
    "# load drugs\n",
    "data = pd.read_csv(\"drugs.csv\")\n",
    "for i,row in data.iterrows():\n",
    "    sql = \"INSERT INTO drugs VALUES (%s,%s)\"\n",
    "    mycursor.execute(sql, tuple(row))\n",
    "    print(tuple(row))\n",
    "    mydb.commit()"
   ]
  },
  {
   "cell_type": "code",
   "execution_count": 19,
   "metadata": {},
   "outputs": [
    {
     "name": "stdout",
     "output_type": "stream",
     "text": [
      "('478-34-0781', 'Florance Saiz', '7 Fair Oaks Place', '1988-11-03', '614-57-6885')\n",
      "('885-94-4721', 'Merry Di Pietro', '1 Old Shore Court', '1991-02-07', '702-16-8749')\n",
      "('777-39-3296', 'Myron Cottem', '75875 Fulton Crossing', '1986-02-20', '718-27-0905')\n",
      "('227-08-7452', 'Bearnard Remer', '18669 Heffernan Point', '2008-01-09', '230-12-3219')\n",
      "('805-15-2755', 'Roxana Worster', '54 Hudson Junction', '1982-11-12', '163-50-5535')\n",
      "('758-08-7274', 'Susanetta Petruska', '16276 Sutteridge Avenue', '1922-08-05', '118-66-5958')\n",
      "('501-47-2038', 'Elvyn Rudinger', '48 Bowman Parkway', '2006-02-28', '156-28-1945')\n",
      "('360-47-2098', 'Peter Lukasen', '552 Ryan Court', '1969-01-10', '522-86-5827')\n",
      "('631-75-6048', 'Avrom Messer', '5030 Garrison Center', '1929-02-04', '510-55-9776')\n",
      "('192-33-2887', 'Jacinda Stowe', '8 Colorado Alley', '1970-04-15', '357-93-5814')\n",
      "('691-21-7304', 'Myrlene Yegoshin', '2 Sunnyside Court', '2001-06-03', '460-35-6754')\n",
      "('303-13-5928', 'Krystyna Luckie', '54106 Barnett Plaza', '1950-02-11', '571-13-9020')\n"
     ]
    }
   ],
   "source": [
    "# load patients\n",
    "data = pd.read_csv(\"patients.csv\")\n",
    "data['birthdate'] = pd.to_datetime(data['birthdate']).dt.strftime('%Y-%m-%d')\n",
    "for i,row in data.iterrows():\n",
    "    sql = \"INSERT INTO patients VALUES (%s,%s,%s,%s,%s)\"\n",
    "    mycursor.execute(sql, tuple(row))\n",
    "    print(tuple(row))\n",
    "    mydb.commit()"
   ]
  },
  {
   "cell_type": "code",
   "execution_count": 108,
   "metadata": {},
   "outputs": [
    {
     "name": "stdout",
     "output_type": "stream",
     "text": [
      "(1, '478-34-0781', '614-57-6885', 'Avafoxin', '2023-03-11', 90)\n",
      "(2, '758-08-7274', '118-66-5958', 'Cleotrana', '2023-03-12', 10)\n",
      "(3, '758-08-7274', '118-66-5958', 'Primalovir', '2023-04-11', 20)\n",
      "(4, '758-08-7274', '118-66-5958', 'Glucozepam Amcipentin', '2023-05-13', 12)\n",
      "(5, '303-13-5928', '571-13-9020', 'Olanzanafine', '2023-05-24', 25)\n",
      "(6, '303-13-5928', '571-13-9020', 'Primalovir', '2023-05-24', 16)\n",
      "(7, '303-13-5928', '571-13-9020', 'Abnazole Toleluble', '2023-05-24', 5)\n",
      "(8, '478-34-0781', '614-57-6885', 'Avafoxin', '2023-06-14', 60)\n",
      "(9, '303-13-5928', '571-13-9020', 'Glucozepam Amcipentin', '2023-06-22', 3)\n",
      "(10, '501-47-2038', '156-28-1945', 'Cleotrana', '2023-07-18', 20)\n",
      "(11, '777-39-3296', '718-27-0905', 'Dantopex Quixilinum', '2023-08-02', 1)\n",
      "(12, '501-47-2038', '156-28-1945', 'Cleotrana', '2023-08-21', 10)\n",
      "(13, '478-34-0781', '614-57-6885', 'Avafoxin', '2023-09-17', 30)\n",
      "(14, '478-34-0781', '614-57-6885', 'Quixiposide', '2023-09-17', 2)\n",
      "(15, '501-47-2038', '156-28-1945', 'Avafoxin', '2023-09-22', 15)\n",
      "(16, '501-47-2038', '156-28-1945', 'Kanulin', '2023-09-22', 8)\n"
     ]
    }
   ],
   "source": [
    "# load prescriptions\n",
    "data = pd.read_csv(\"prescriptions.csv\")\n",
    "data['date'] = pd.to_datetime(data['date'], format='%m/%d/%Y').dt.strftime('%Y-%m-%d')\n",
    "for i,row in data.iterrows():\n",
    "    sql = \"INSERT INTO prescriptions VALUES (%s,%s,%s,%s,%s,%s)\"\n",
    "    mycursor.execute(sql, tuple(row))\n",
    "    print(tuple(row))\n",
    "    mydb.commit()"
   ]
  },
  {
   "cell_type": "code",
   "execution_count": 96,
   "metadata": {},
   "outputs": [
    {
     "name": "stdout",
     "output_type": "stream",
     "text": [
      "('Cleotrana', 'Kanulin')\n",
      "('Primalovir', 'Abnazole Toleluble')\n",
      "('Primalovir', 'Olanzanafine')\n",
      "('Olanzanafine', 'Glucozepam Amcipentin')\n",
      "('Avafoxin', 'Kanulin')\n",
      "('Quixiposide', 'Dantopex Quixilinum')\n",
      "('Quixiposide', 'Avafoxin')\n",
      "('Cleotrana', 'Avafoxin')\n",
      "('Cleotrana', 'Quixiposide')\n"
     ]
    }
   ],
   "source": [
    "# load adverse_interactions\n",
    "data = pd.read_csv(\"adverse_reactions.csv\")\n",
    "for i,row in data.iterrows():\n",
    "    sql = \"INSERT INTO adverse_interactions VALUES (%s,%s)\"\n",
    "    mycursor.execute(sql, tuple(row))\n",
    "    print(tuple(row))\n",
    "    mydb.commit()"
   ]
  },
  {
   "cell_type": "code",
   "execution_count": 109,
   "metadata": {},
   "outputs": [
    {
     "name": "stdout",
     "output_type": "stream",
     "text": [
      "('501-47-2038', '156-28-1945', datetime.date(2023, 9, 22), 'Avafoxin', 'Kanulin')\n",
      "('501-47-2038', '156-28-1945', datetime.date(2023, 9, 22), 'Cleotrana', 'Avafoxin')\n",
      "('501-47-2038', '156-28-1945', datetime.date(2023, 9, 22), 'Cleotrana', 'Kanulin')\n",
      "('303-13-5928', '571-13-9020', datetime.date(2023, 5, 24), 'Olanzanafine', 'Primalovir')\n",
      "('303-13-5928', '571-13-9020', datetime.date(2023, 5, 24), 'Primalovir', 'Abnazole Toleluble')\n",
      "('303-13-5928', '571-13-9020', datetime.date(2023, 6, 22), 'Olanzanafine', 'Glucozepam Amcipentin')\n",
      "('478-34-0781', '614-57-6885', datetime.date(2023, 9, 17), 'Avafoxin', 'Quixiposide')\n"
     ]
    }
   ],
   "source": [
    "mycursor.execute(\"select * from alerts\")\n",
    "result = mycursor.fetchall()\n",
    "for r in result:\n",
    "    print(r)"
   ]
  },
  {
   "cell_type": "code",
   "execution_count": 112,
   "metadata": {},
   "outputs": [
    {
     "name": "stdout",
     "output_type": "stream",
     "text": [
      "(1, 3, '2023-03-15', 60.53)\n",
      "(3, 4, '2023-05-16', 41.5)\n",
      "(1, 2, '2023-03-12', 18.0)\n",
      "(8, 1, '2023-03-12', 46.53)\n",
      "(10, 5, '2023-05-26', 47.5)\n",
      "(7, 6, '2023-05-24', 92.1)\n",
      "(5, 7, '2023-05-28', 41.65)\n",
      "(5, 8, '2023-06-15', 94.6)\n",
      "(11, 9, '2023-06-22', 31.0)\n",
      "(2, 10, '2023-07-22', 14.55)\n",
      "(12, 11, '2023-08-04', 92.0)\n",
      "(14, 12, '2023-08-21', 42.85)\n",
      "(6, 13, '2023-09-19', 31.65)\n",
      "(7, 14, '2023-09-19', 11.0)\n",
      "(9, 15, '2023-09-25', 46.8)\n",
      "(4, 16, '2023-09-22', 42.75)\n"
     ]
    }
   ],
   "source": [
    "# load pharmacy_fills\n",
    "data = pd.read_csv(\"pharmacy_fills.csv\")\n",
    "data['date'] = pd.to_datetime(data['date'], format='%m/%d/%Y').dt.strftime('%Y-%m-%d')\n",
    "for i,row in data.iterrows():\n",
    "    sql = \"INSERT INTO pharmacy_fills (pharmacy_id,prescription_id,date,cost) VALUES (%s,%s,%s,%s)\"\n",
    "    mycursor.execute(sql, tuple(row))\n",
    "    print(tuple(row))\n",
    "    mydb.commit()"
   ]
  },
  {
   "cell_type": "code",
   "execution_count": 113,
   "metadata": {},
   "outputs": [
    {
     "name": "stdout",
     "output_type": "stream",
     "text": [
      "(1, 'Goodrx', '123 Main St, San Francisco, CA', '123-456-7890', 'Holly Jolly')\n",
      "(2, 'PHARMASEE', '456 Elm St, New York, NY', '234-567-8901', 'Faker Maker')\n",
      "(3, 'DRUGXO', '789 Maple St, Los Angeles, CA', '345-678-9012', 'Silly Putty')\n",
      "(4, 'Pharmachoice', '101 Pine St, Chicago, IL', '456-789-0123', 'Connie Honey')\n",
      "(5, 'Castox', '234 Oak St, Houston, TX', '567-890-1234', 'Laxmi Kant Sheth')\n",
      "(6, 'Doktera', '567 Cedar St, Philadelphia, PA', '678-901-2345', 'I.P. Green')\n",
      "(7, 'Lipdrugz', '890 Birch St, Phoenix, AZ', '789-012-3456', 'Boris Kotchakoff')\n",
      "(8, 'Nurfarma', '123 Fir St, San Antonio, TX', '890-123-4567', 'Wu Liu')\n",
      "(9, 'Munimed', '456 Redwood St, San Diego, CA', '901-234-5678', 'Kim Park')\n",
      "(10, 'Arkmed', '789 Sequoia St, Dallas, TX', '012-345-6789', 'James Bond')\n"
     ]
    }
   ],
   "source": [
    "# load companies\n",
    "data = pd.read_csv(\"companies.csv\")\n",
    "for i,row in data.iterrows():\n",
    "    sql = \"INSERT INTO companies VALUES (%s,%s,%s,%s,%s)\"\n",
    "    mycursor.execute(sql, tuple(row))\n",
    "    print(tuple(row))\n",
    "    mydb.commit()"
   ]
  },
  {
   "cell_type": "code",
   "execution_count": 114,
   "metadata": {},
   "outputs": [
    {
     "name": "stdout",
     "output_type": "stream",
     "text": [
      "('id', 'int', 'NO', 'PRI', None, '')\n",
      "('company_id', 'int', 'YES', 'MUL', None, '')\n",
      "('pharmacy_id', 'int', 'YES', 'MUL', None, '')\n",
      "('drug_name', 'varchar(255)', 'YES', 'MUL', None, '')\n",
      "('dosage', 'varchar(255)', 'YES', '', None, '')\n",
      "('quantity', 'int', 'YES', '', None, '')\n",
      "('date', 'date', 'YES', '', None, '')\n",
      "('price', 'decimal(10,2)', 'YES', '', None, '')\n"
     ]
    }
   ],
   "source": [
    "mycursor.execute(\"DESCRIBE contracts\")\n",
    "for x in mycursor:\n",
    "    print(x)"
   ]
  },
  {
   "cell_type": "code",
   "execution_count": 115,
   "metadata": {},
   "outputs": [
    {
     "name": "stdout",
     "output_type": "stream",
     "text": [
      "(1, 'Cleotrana', 50, 5, 10, 40, '2023-10-03', 100.0)\n",
      "(2, 'Primalovir', 500, 5, 10, 20, '2023-09-26', 40.5)\n",
      "(3, 'Kanulin', 1000, 4, 9, 20, '2023-09-20', 10.5)\n",
      "(4, 'Olanzanafine', 50, 6, 3, 80, '2023-09-24', 150.0)\n",
      "(5, 'Avafoxin', 5, 15, 5, 30, '2023-09-29', 18.0)\n",
      "(6, 'Quixiposide', 25, 5, 1, 30, '2023-10-02', 12.0)\n",
      "(7, 'Glucozepam Amcipentin', 20, 10, 2, 80, '2023-09-27', 145.0)\n",
      "(8, 'Divisporine Acetaclotide', 15, 12, 9, 30, '2023-10-02', 42.0)\n",
      "(9, 'Abnazole Toleluble', 30, 14, 6, 40, '2023-09-21', 45.0)\n",
      "(10, 'Dantopex Quixilinum', 100, 14, 8, 20, '2023-09-26', 20.0)\n",
      "(11, 'Olanzanafine', 50, 1, 3, 90, '2023-09-30', 160.0)\n",
      "(12, 'Olanzanafine', 75, 2, 3, 40, '2023-09-23', 60.0)\n",
      "(13, 'Olanzanafine', 75, 3, 3, 20, '2023-09-23', 35.0)\n",
      "(14, 'Glucozepam Amcipentin', 40, 8, 2, 20, '2023-10-02', 14.0)\n",
      "(15, 'Divisporine Acetaclotide', 10, 9, 9, 40, '2023-09-28', 68.0)\n",
      "(16, 'Dantopex Quixilinum', 100, 13, 8, 50, '2023-09-30', 50.0)\n"
     ]
    }
   ],
   "source": [
    "# load contracts\n",
    "data = pd.read_csv(\"contracts.csv\")\n",
    "data['date'] = pd.to_datetime(data['date'], format='%m/%d/%Y').dt.strftime('%Y-%m-%d')\n",
    "for i,row in data.iterrows():\n",
    "    sql = \"INSERT INTO contracts (id,drug_name,dosage,pharmacy_id,company_id,quantity,date,price) VALUES (%s,%s,%s,%s,%s,%s,%s,%s)\"\n",
    "    mycursor.execute(sql, tuple(row))\n",
    "    print(tuple(row))\n",
    "    mydb.commit()"
   ]
  }
 ],
 "metadata": {
  "kernelspec": {
   "display_name": "env",
   "language": "python",
   "name": "python3"
  },
  "language_info": {
   "codemirror_mode": {
    "name": "ipython",
    "version": 3
   },
   "file_extension": ".py",
   "mimetype": "text/x-python",
   "name": "python",
   "nbconvert_exporter": "python",
   "pygments_lexer": "ipython3",
   "version": "3.12.3"
  }
 },
 "nbformat": 4,
 "nbformat_minor": 2
}
