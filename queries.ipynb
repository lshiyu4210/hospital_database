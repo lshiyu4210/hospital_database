{
 "cells": [
  {
   "cell_type": "markdown",
   "metadata": {},
   "source": [
    "QUERIES: Please write the SQL queries for the following queries\n",
    "\n",
    "Find the physicians (ssn) who have most prescribed drugs which caused alerts (due to possible adverse interaction with a previously prescribed drug, not necessarily by the same physician).\n",
    "Find the physicians (ssn) who have prescribed two drugs to the same patient which have adverse interactions.\n",
    "\n",
    "Find the physicians who have prescribed most drugs supplied by company DRUGXO.\n",
    "\n",
    "For each drug supplied by company PHARMASEE display the price (per unit of quantity) charged by that company for that drug along with the average price charged for that drug (by companies, not pharmacies). Note: As it happens in the data we supplied each drug is supplied by only one company, but your query should not be based on that.\n",
    "\n",
    "For each drug and for each pharmacy, find the percentage of the markup (per unit of quantity) for that drug by that pharmacy.\n",
    "\n",
    "For each drug, find the average time between when a patient was prescribed a drug and when the prescription was filled at a pharmacy. (You will need to extract the components of a date to compute this. mySQL provides functions for doing this and the official documentation here can help provide the appropriate functions: https://dev.mysql.com/doc/refman/8.4/en/date-and-time-functions.htmlLinks to an external site.).\n",
    "\n",
    "For each pharmacy, find all the drugs that were prescribed to a patient and never filled at that pharmacy.\n",
    "\n",
    "What to submit:\n",
    "\n",
    "1. The Python code used to create and populate the database (as a ipynb file).\n",
    "\n",
    "2. The SQL queries (as a sql file). \n",
    "\n",
    "3. The result of executing each query (as a pdf)."
   ]
  },
  {
   "cell_type": "code",
   "execution_count": null,
   "metadata": {},
   "outputs": [],
   "source": [
    "import mysql.connector\n",
    "\n",
    "# Connect to the MySQL database\n",
    "import mysql.connector\n",
    " \n",
    "mydb = mysql.connector.connect(\n",
    "  host=\"localhost\",\n",
    "  user=\"root\",\n",
    "  password=\"421020\"   \n",
    ")\n",
    " \n",
    "print(mydb)\n",
    " \n",
    "if mydb.is_connected():\n",
    "    print(\"CONNECTION SUCCESSFUL\")\n",
    "\n",
    "mycursor = mydb.cursor()"
   ]
  },
  {
   "cell_type": "code",
   "execution_count": null,
   "metadata": {},
   "outputs": [],
   "source": [
    "mydb.close()\n",
    "if not mydb.is_connected():\n",
    "        print(\"CONNECTION CLOSED\")"
   ]
  },
  {
   "cell_type": "code",
   "execution_count": null,
   "metadata": {},
   "outputs": [],
   "source": [
    "sql_file_path = \"queries.sql\"\n",
    "output_file_path = \"query_results.txt\"\n",
    "\n",
    "with open(sql_file_path, 'r') as file:\n",
    "    sql_queries = file.read()\n",
    "\n",
    "queries = [query.strip() for query in sql_queries.split(';') if query.strip()]\n",
    "\n",
    "# Open the output file to write the results\n",
    "with open(output_file_path, 'w') as output_file:\n",
    "    for query in queries:\n",
    "        try:\n",
    "            # Execute the query\n",
    "            mycursor.execute(query)\n",
    "\n",
    "            # Fetch results if the query returns data (e.g., SELECT)\n",
    "            if mycursor.with_rows:\n",
    "                results = mycursor.fetchall()\n",
    "                output_file.write(f\"Results for query: {query}\\n\")\n",
    "                for row in results:\n",
    "                    output_file.write(f\"{row}\\n\")\n",
    "            else:\n",
    "                output_file.write(f\"Query executed successfully: {query}\\n\")\n",
    "                \n",
    "            output_file.write(\"\\n\" + \"-\"*50 + \"\\n\\n\")\n",
    "\n",
    "        except mysql.connector.Error as err:\n",
    "            output_file.write(f\"Error executing query: {query}\\n\")\n",
    "            output_file.write(f\"Error: {err}\\n\")\n",
    "            output_file.write(\"\\n\" + \"-\"*50 + \"\\n\\n\")\n",
    "\n",
    "# Close the database connection\n",
    "mydb.close()\n",
    "\n",
    "print(\"All queries executed and results saved to query_results.txt\")"
   ]
  }
 ],
 "metadata": {
  "kernelspec": {
   "display_name": "env",
   "language": "python",
   "name": "python3"
  },
  "language_info": {
   "name": "python",
   "version": "3.12.3"
  }
 },
 "nbformat": 4,
 "nbformat_minor": 2
}
